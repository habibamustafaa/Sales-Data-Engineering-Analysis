{
 "cells": [
  {
   "cell_type": "markdown",
   "id": "2dc51f50",
   "metadata": {},
   "source": [
    "# 📊 Sales Data Engineering & Analysis Project\n",
    "This project demonstrates a full data engineering and analysis workflow on a retail sales dataset. It covers data cleaning, transformation, SQL storage, querying, and visualization using **Python, Pandas, NumPy, Matplotlib, Seaborn, and SQLite**."
   ]
  },
  {
   "cell_type": "code",
   "execution_count": null,
   "id": "9f06391c",
   "metadata": {},
   "outputs": [],
   "source": [
    "\n",
    "import pandas as pd\n",
    "import numpy as np\n",
    "import matplotlib.pyplot as plt\n",
    "import seaborn as sns\n",
    "import sqlite3\n"
   ]
  },
  {
   "cell_type": "markdown",
   "id": "7dc2b629",
   "metadata": {},
   "source": [
    "## 📥 Load the Dataset"
   ]
  },
  {
   "cell_type": "code",
   "execution_count": null,
   "id": "6298d2ed",
   "metadata": {},
   "outputs": [],
   "source": [
    "\n",
    "df = pd.read_csv('train.csv')\n",
    "\n",
    "# Convert dates\n",
    "df['Order Date'] = pd.to_datetime(df['Order Date'], dayfirst=True, errors='coerce')\n",
    "df['Ship Date'] = pd.to_datetime(df['Ship Date'], dayfirst=True, errors='coerce')\n",
    "\n",
    "df.head()\n"
   ]
  },
  {
   "cell_type": "markdown",
   "id": "645cc998",
   "metadata": {},
   "source": [
    "## 🧹 Data Cleaning"
   ]
  },
  {
   "cell_type": "code",
   "execution_count": null,
   "id": "1243f193",
   "metadata": {},
   "outputs": [],
   "source": [
    "\n",
    "# Drop duplicates and handle missing values\n",
    "df = df.drop_duplicates()\n",
    "df = df.dropna(subset=['Sales'])\n",
    "\n",
    "# Add new columns for analysis\n",
    "df['Year'] = df['Order Date'].dt.year\n",
    "df['Month'] = df['Order Date'].dt.month_name()\n",
    "\n",
    "df.info()\n"
   ]
  },
  {
   "cell_type": "markdown",
   "id": "5ddb4661",
   "metadata": {},
   "source": [
    "## 📈 Key Performance Indicators"
   ]
  },
  {
   "cell_type": "code",
   "execution_count": null,
   "id": "a933ce6b",
   "metadata": {},
   "outputs": [],
   "source": [
    "\n",
    "total_sales = df['Sales'].sum()\n",
    "avg_sales = df['Sales'].mean()\n",
    "top_category = df.groupby('Category')['Sales'].sum().idxmax()\n",
    "top_state = df.groupby('State')['Sales'].sum().idxmax()\n",
    "\n",
    "print(\"Total Sales: $\", round(total_sales,2))\n",
    "print(\"Average Sales per Order: $\", round(avg_sales,2))\n",
    "print(\"Top Category:\", top_category)\n",
    "print(\"Top State:\", top_state)\n"
   ]
  },
  {
   "cell_type": "markdown",
   "id": "339ffd6d",
   "metadata": {},
   "source": [
    "## 📊 Visualizations"
   ]
  },
  {
   "cell_type": "code",
   "execution_count": null,
   "id": "cab32b86",
   "metadata": {},
   "outputs": [],
   "source": [
    "\n",
    "plt.figure(figsize=(10,5))\n",
    "df.groupby('Year')['Sales'].sum().plot(kind='bar', color='skyblue')\n",
    "plt.title(\"Total Sales per Year\")\n",
    "plt.ylabel(\"Sales\")\n",
    "plt.xlabel(\"Year\")\n",
    "plt.show()\n"
   ]
  },
  {
   "cell_type": "code",
   "execution_count": null,
   "id": "759b36b7",
   "metadata": {},
   "outputs": [],
   "source": [
    "\n",
    "plt.figure(figsize=(12,6))\n",
    "sns.barplot(data=df.groupby('Category')['Sales'].sum().reset_index(),\n",
    "            x='Category', y='Sales', palette='viridis')\n",
    "plt.title(\"Sales by Product Category\")\n",
    "plt.show()\n"
   ]
  },
  {
   "cell_type": "code",
   "execution_count": null,
   "id": "94e628bf",
   "metadata": {},
   "outputs": [],
   "source": [
    "\n",
    "plt.figure(figsize=(12,6))\n",
    "sns.boxplot(data=df, x='Category', y='Sales')\n",
    "plt.title(\"Sales Distribution by Category\")\n",
    "plt.ylim(0,1000)\n",
    "plt.show()\n"
   ]
  },
  {
   "cell_type": "code",
   "execution_count": null,
   "id": "9ff80ce8",
   "metadata": {},
   "outputs": [],
   "source": [
    "\n",
    "plt.figure(figsize=(12,6))\n",
    "monthly_sales = df.groupby('Month')['Sales'].sum().reindex([\n",
    "    'January','February','March','April','May','June',\n",
    "    'July','August','September','October','November','December'\n",
    "])\n",
    "monthly_sales.plot(kind='line', marker='o', color='red')\n",
    "plt.title(\"Monthly Sales Trend\")\n",
    "plt.ylabel(\"Sales\")\n",
    "plt.show()\n"
   ]
  },
  {
   "cell_type": "markdown",
   "id": "d960a42c",
   "metadata": {},
   "source": [
    "## 🗄️ Save Data to SQLite and Run Queries"
   ]
  },
  {
   "cell_type": "code",
   "execution_count": null,
   "id": "c7c573e0",
   "metadata": {},
   "outputs": [],
   "source": [
    "\n",
    "conn = sqlite3.connect('sales.db')\n",
    "df.to_sql('sales', conn, if_exists='replace', index=False)\n",
    "\n",
    "query1 = pd.read_sql(\"SELECT Category, SUM(Sales) as TotalSales FROM sales GROUP BY Category ORDER BY TotalSales DESC\", conn)\n",
    "query2 = pd.read_sql(\"SELECT State, SUM(Sales) as TotalSales FROM sales GROUP BY State ORDER BY TotalSales DESC LIMIT 5\", conn)\n",
    "query3 = pd.read_sql(\"SELECT Year, SUM(Sales) as TotalSales FROM sales GROUP BY Year\", conn)\n",
    "\n",
    "conn.close()\n",
    "\n",
    "query1, query2, query3\n"
   ]
  }
 ],
 "metadata": {},
 "nbformat": 4,
 "nbformat_minor": 5
}
